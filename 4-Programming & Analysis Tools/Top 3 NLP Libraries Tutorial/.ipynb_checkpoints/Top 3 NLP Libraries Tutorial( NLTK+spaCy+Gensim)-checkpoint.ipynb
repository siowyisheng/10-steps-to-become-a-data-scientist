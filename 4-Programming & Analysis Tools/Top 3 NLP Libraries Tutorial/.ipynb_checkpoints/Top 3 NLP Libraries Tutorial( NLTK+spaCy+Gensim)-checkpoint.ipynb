{
 "cells": [
  {
   "cell_type": "markdown",
   "metadata": {
    "_uuid": "1247188a5193a0bb99f176fea36dc594d283160e"
   },
   "source": [
    "<img src='http://s9.picofile.com/file/8351628176/nlp.png' width=600 height=600 >\n",
    "<div style=\"text-align:center\">last update: <b>12/02/2019</b></div>\n",
    "\n",
    "\n",
    ">You are reading **10 Steps to Become a Data Scientist** and are now in the 8th step : \n",
    "\n",
    "1. [Leren Python](https://www.kaggle.com/mjbahmani/the-data-scientist-s-toolbox-tutorial-1)\n",
    "2. [Python Packages](https://www.kaggle.com/mjbahmani/the-data-scientist-s-toolbox-tutorial-2)\n",
    "3. [Mathematics and Linear Algebra](https://www.kaggle.com/mjbahmani/linear-algebra-for-data-scientists)\n",
    "4. <font color=\"red\">You are in the 4th step</font>\n",
    "5. [Big Data](https://www.kaggle.com/mjbahmani/a-data-science-framework-for-quora)\n",
    "6. [Data visualization](https://www.kaggle.com/mjbahmani/top-5-data-visualization-libraries-tutorial)\n",
    "7. [Data Cleaning](https://www.kaggle.com/mjbahmani/machine-learning-workflow-for-house-prices)\n",
    "8. [Tutorial-on-ensemble-learning](https://www.kaggle.com/mjbahmani/tutorial-on-ensemble-learning)\n",
    "9. [A Comprehensive ML  Workflow with Python](https://www.kaggle.com/mjbahmani/a-comprehensive-ml-workflow-with-python)\n",
    "10. [Deep Learning](https://www.kaggle.com/mjbahmani/top-5-deep-learning-frameworks-tutorial)\n",
    "\n",
    "\n",
    "\n",
    "---------------------------------------------------------------------\n",
    "You can Fork and Run this kernel on Github:\n",
    "> ###### [ GitHub](https://github.com/mjbahmani/10-steps-to-become-a-data-scientist)\n",
    "\n",
    "-------------------------------------------------------------------------------------------------------------\n",
    "\n",
    " **I hope you find this kernel helpful and some <font color=\"red\"><b>UPVOTES</b></font> would be very much appreciated**\n",
    " \n",
    " -----------"
   ]
  },
  {
   "cell_type": "markdown",
   "metadata": {
    "_uuid": "0a45d14ee727bf2f88a7cd0ba5e6aa338977d10b"
   },
   "source": [
    " <a id=\"top\"></a> <br>\n",
    "## Notebook  Content\n",
    "1. [Introduction](#1)\n",
    "    1. [Import](#11)\n",
    "    1. [Version](#12)\n",
    "    1. [Setup](#13)\n",
    "    1. [Data set](#14)\n",
    "    1. [Gendered Pronoun Analysis](#15)\n",
    "        1. [Problem Feature](#151)\n",
    "        1. [Variables](#152)\n",
    "1. [NLTK](#2)\n",
    "    1. [Tokenizing sentences](#21)\n",
    "    1. [NLTK and arrays](#22)\n",
    "    1. [NLTK stop words](#23)\n",
    "    1. [NLTK – stemming](#24)\n",
    "    1. [NLTK speech tagging](#25)\n",
    "    1. [Natural Language Processing – prediction](#26)\n",
    "        1. [nlp prediction example](#261)\n",
    "    1. [nlp prediction example](#27)\n",
    "1. [spaCy](#3)\n",
    "    1. [Sentence detection](#31)\n",
    "    1. [Part Of Speech Tagging](#32)\n",
    "    1. [spaCy](#33)\n",
    "    1. [displaCy](#34)\n",
    "1. [Gensim](#4)\n",
    "1. [Comparison of Python NLP libraries by Activewizards](#5)\n",
    "1. [References](#6)"
   ]
  },
  {
   "cell_type": "markdown",
   "metadata": {
    "_uuid": "ec7344e7f2a1bafa9a44a518722fcd8ec47c374b"
   },
   "source": [
    "<a id=\"1\"></a> <br>\n",
    "# 1-Introduction\n",
    "This Kernel is mostly for **beginners**, and of course, all **professionals** who think they need to review  their  knowledge.\n",
    "Also, we introduce and teach three known libraries ( NLTK+spaCy+Gensim) for text processing And we will introduce for each of them some examples based on [gendered-pronoun-resolution](https://www.kaggle.com/c/gendered-pronoun-resolution)."
   ]
  },
  {
   "cell_type": "markdown",
   "metadata": {
    "_uuid": "4e28cde75726e3617dc80585626f7f8a1297a9e4"
   },
   "source": [
    "<a id=\"11\"></a> <br>\n",
    "##   1-1 Import"
   ]
  },
  {
   "cell_type": "code",
   "execution_count": null,
   "metadata": {
    "_cell_guid": "b1076dfc-b9ad-4769-8c92-a6c4dae69d19",
    "_kg_hide-input": true,
    "_uuid": "8f2839f25d086af736a60e9eeb907d3b93b6e0e5"
   },
   "outputs": [],
   "source": [
    "import matplotlib.pyplot as plt\n",
    "import seaborn as sns\n",
    "import pandas as pd\n",
    "import numpy as np\n",
    "import matplotlib\n",
    "import warnings\n",
    "import sklearn\n",
    "import gensim\n",
    "import scipy\n",
    "import numpy\n",
    "import json\n",
    "import nltk\n",
    "import sys\n",
    "import csv\n",
    "import os"
   ]
  },
  {
   "cell_type": "markdown",
   "metadata": {
    "_uuid": "3c3c434ac82d771c5549c4f36d0e8e878489f252"
   },
   "source": [
    "<a id=\"12\"></a> <br>\n",
    "## 1-2 Version"
   ]
  },
  {
   "cell_type": "code",
   "execution_count": null,
   "metadata": {
    "_kg_hide-input": true,
    "_uuid": "72fdff866b7cbe404867e82f9122e16fc33facf2"
   },
   "outputs": [],
   "source": [
    "print('matplotlib: {}'.format(matplotlib.__version__))\n",
    "print('scipy: {}'.format(scipy.__version__))\n",
    "print('seaborn: {}'.format(sns.__version__))\n",
    "print('pandas: {}'.format(pd.__version__))\n",
    "print('numpy: {}'.format(np.__version__))\n",
    "print('Python: {}'.format(sys.version))"
   ]
  },
  {
   "cell_type": "markdown",
   "metadata": {
    "_uuid": "4284a92f8326eb09dccf0a795f44931c5a7487cc"
   },
   "source": [
    "<a id=\"13\"></a> <br>\n",
    "## 1-3 Setup\n",
    "\n",
    "A few tiny adjustments for better **code readability**"
   ]
  },
  {
   "cell_type": "code",
   "execution_count": null,
   "metadata": {
    "_kg_hide-input": true,
    "_uuid": "f9a265dce077fd183b2172378a85ed2d23290189"
   },
   "outputs": [],
   "source": [
    "sns.set(style='white', context='notebook', palette='deep')\n",
    "warnings.filterwarnings('ignore')\n",
    "sns.set_style('white')\n",
    "%matplotlib inline"
   ]
  },
  {
   "cell_type": "markdown",
   "metadata": {
    "_uuid": "2f9bb958b20b3412b3497ed7f34d1f29f73c9c04"
   },
   "source": [
    "<a id=\"14\"></a> <br>\n",
    "## 1-4 Data set"
   ]
  },
  {
   "cell_type": "code",
   "execution_count": null,
   "metadata": {
    "_uuid": "01131ed1f0d7c9973b33431af34a9e918e36c2bb"
   },
   "outputs": [],
   "source": [
    "print(os.listdir(\"../input/\"))"
   ]
  },
  {
   "cell_type": "code",
   "execution_count": null,
   "metadata": {
    "_uuid": "cedecea930b278f86292367cc28d2996a235a169"
   },
   "outputs": [],
   "source": [
    "gendered_pronoun_df = pd.read_csv('../input/test_stage_1.tsv', delimiter='\\t')"
   ]
  },
  {
   "cell_type": "code",
   "execution_count": null,
   "metadata": {
    "_uuid": "43deb221b65048bfc4b3e0055fae848ff84d3143"
   },
   "outputs": [],
   "source": [
    "submission = pd.read_csv('../input/sample_submission_stage_1.csv')"
   ]
  },
  {
   "cell_type": "code",
   "execution_count": null,
   "metadata": {
    "_uuid": "6e0d934d1ec4864c1b211324cada605fee8077a8"
   },
   "outputs": [],
   "source": [
    "gendered_pronoun_df.shape"
   ]
  },
  {
   "cell_type": "code",
   "execution_count": null,
   "metadata": {
    "_uuid": "a15832c243c22add987ccfc8f1e13238c5a18435"
   },
   "outputs": [],
   "source": [
    "submission.shape"
   ]
  },
  {
   "cell_type": "markdown",
   "metadata": {
    "_uuid": "984626a96b68c3e3fa1f70ffecbe6afca5156bea"
   },
   "source": [
    "<a id=\"15\"></a> <br>\n",
    "## 1-5 Gendered Pronoun Data set Analysis\n",
    "<img src='https://storage.googleapis.com/kaggle-media/competitions/GoogleAI-GenderedPronoun/PronounResolution.png' width=600 height=600>\n",
    "**Pronoun resolution** is part of coreference resolution, the task of pairing an expression to its referring entity. This is an important task for natural language understanding, and the resolution of ambiguous pronouns is a longstanding challenge. for more information you can check this [link](https://www.kaggle.com/c/gendered-pronoun-resolution)\n",
    "<a id=\"151\"></a> <br>\n",
    "### 1-5-1 Problem Feature\n",
    "In this competition, you must identify the target of a pronoun within a text passage. The source text is taken from Wikipedia articles. You are provided with the pronoun and two candidate names to which the pronoun could refer. You must create an algorithm capable of deciding whether the pronoun refers to name A, name B, or neither."
   ]
  },
  {
   "cell_type": "code",
   "execution_count": null,
   "metadata": {
    "_uuid": "b6f8c6a6a9f29fc49ff2bb1d8294426c33563433"
   },
   "outputs": [],
   "source": [
    "gendered_pronoun_df.head()"
   ]
  },
  {
   "cell_type": "code",
   "execution_count": null,
   "metadata": {
    "_uuid": "073d5e85a4f4acc4938109dfd0f8ecd350abd0cf"
   },
   "outputs": [],
   "source": [
    "gendered_pronoun_df.info()"
   ]
  },
  {
   "cell_type": "markdown",
   "metadata": {
    "_uuid": "3ec61de15ab10fdeafcd98088cc47c8586caa477"
   },
   "source": [
    "<a id=\"152\"></a> <br>\n",
    "### 1-5-2  Variables\n",
    "\n",
    "1. ID - Unique identifier for an example (Matches to Id in output file format)\n",
    "1. Text - Text containing the ambiguous pronoun and two candidate names (about a paragraph in length)\n",
    "1. Pronoun - The target pronoun (text)\n",
    "1. Pronoun-offset The character offset of Pronoun in Text\n",
    "1. A - The first name candidate (text)\n",
    "1. A-offset - The character offset of name A in Text\n",
    "1. B - The second name candidate\n",
    "1. B-offset - The character offset of name B in Text\n",
    "1. URL - The URL of the source Wikipedia page for the example"
   ]
  },
  {
   "cell_type": "code",
   "execution_count": null,
   "metadata": {
    "_uuid": "b81a1e300309cddfa51b7c64ae4d18e55035fb10"
   },
   "outputs": [],
   "source": [
    "print(gendered_pronoun_df.Text.head())"
   ]
  },
  {
   "cell_type": "markdown",
   "metadata": {
    "_uuid": "c08d722cf215cefb65a17b57a141f0b7b9245cb3"
   },
   "source": [
    "<a id=\"153\"></a> <br>\n",
    "### 1-5-3  Evaluation\n",
    "Submissions are evaluated using the multi-class logarithmic loss. Each pronoun has been labeled with whether it refers to A, B, or NEITHER. For each pronoun, you must submit a set of predicted probabilities (one for each class). The formula is :\n",
    "<img src='http://s8.picofile.com/file/8351608076/1.png'>"
   ]
  },
  {
   "cell_type": "code",
   "execution_count": null,
   "metadata": {
    "_uuid": "6bb8c7baeb7f44bac5b466ba7623fbe17fb3f92b"
   },
   "outputs": [],
   "source": [
    "print(\"Shape of train set : \",gendered_pronoun_df.shape)"
   ]
  },
  {
   "cell_type": "code",
   "execution_count": null,
   "metadata": {
    "_uuid": "f8add9178a5c9effd42f468319ab78a84c793d6d"
   },
   "outputs": [],
   "source": [
    "gendered_pronoun_df.columns"
   ]
  },
  {
   "cell_type": "markdown",
   "metadata": {
    "_uuid": "8de6c0cb6f790d063af993989947c42ef6eeb0f6"
   },
   "source": [
    "## Check Missing Data"
   ]
  },
  {
   "cell_type": "code",
   "execution_count": null,
   "metadata": {
    "_uuid": "dcc997467cd5d9872f3de26b3c664f23befac147"
   },
   "outputs": [],
   "source": [
    "def check_missing_data(df):\n",
    "    flag=df.isna().sum().any()\n",
    "    if flag==True:\n",
    "        total = df.isnull().sum()\n",
    "        percent = (df.isnull().sum())/(df.isnull().count()*100)\n",
    "        output = pd.concat([total, percent], axis=1, keys=['Total', 'Percent'])\n",
    "        data_type = []\n",
    "        # written by MJ Bahmani\n",
    "        for col in df.columns:\n",
    "            dtype = str(df[col].dtype)\n",
    "            data_type.append(dtype)\n",
    "        output['Types'] = data_type\n",
    "        return(np.transpose(output))\n",
    "    else:\n",
    "        return(False)"
   ]
  },
  {
   "cell_type": "code",
   "execution_count": null,
   "metadata": {
    "_uuid": "0233123b25c8955206476b5d43b68f078a81ccba"
   },
   "outputs": [],
   "source": [
    "check_missing_data(gendered_pronoun_df)"
   ]
  },
  {
   "cell_type": "markdown",
   "metadata": {
    "_uuid": "fffdb2c356ad89df08f40184f67a7e1d82585eaf"
   },
   "source": [
    "<a id=\"154\"></a> <br>\n",
    "## 1-5-4 Some New Features\n",
    "In this section, I will extract a few new statistical features from the text field"
   ]
  },
  {
   "cell_type": "markdown",
   "metadata": {
    "_uuid": "12e97cbf772cd13d9403a7806d42739253a017ff"
   },
   "source": [
    "### Number of words in the text"
   ]
  },
  {
   "cell_type": "code",
   "execution_count": null,
   "metadata": {
    "_uuid": "39e587dc0059dea070a800c3987e2015e0bd68f6"
   },
   "outputs": [],
   "source": [
    "gendered_pronoun_df[\"num_words\"] = gendered_pronoun_df[\"Text\"].apply(lambda x: len(str(x).split()))"
   ]
  },
  {
   "cell_type": "code",
   "execution_count": null,
   "metadata": {
    "_uuid": "9459d55197f128ba4b0d4cecdcca700f95d4fccf"
   },
   "outputs": [],
   "source": [
    "#MJ Bahmani\n",
    "print('maximum of num_words in data_df',gendered_pronoun_df[\"num_words\"].max())\n",
    "print('min of num_words in data_df',gendered_pronoun_df[\"num_words\"].min())"
   ]
  },
  {
   "cell_type": "markdown",
   "metadata": {
    "_uuid": "92e63580cf1a8e795a24544f1ce16d57e20f16ae"
   },
   "source": [
    "### Number of unique words in the text"
   ]
  },
  {
   "cell_type": "code",
   "execution_count": null,
   "metadata": {
    "_uuid": "2180897cc82e1262b1a693a9a143735e9202ad9f"
   },
   "outputs": [],
   "source": [
    "gendered_pronoun_df[\"num_unique_words\"] = gendered_pronoun_df[\"Text\"].apply(lambda x: len(set(str(x).split())))\n",
    "print('maximum of num_unique_words in train',gendered_pronoun_df[\"num_unique_words\"].max())\n",
    "print('mean of num_unique_words in data_df',gendered_pronoun_df[\"num_unique_words\"].mean())"
   ]
  },
  {
   "cell_type": "markdown",
   "metadata": {
    "_uuid": "d2ca0159f70233588e98b25b9a91da2054c5b815"
   },
   "source": [
    "### Number of characters in the text"
   ]
  },
  {
   "cell_type": "code",
   "execution_count": null,
   "metadata": {
    "_uuid": "908c86b9946d8df03cbef68a05e4b7ff1b661d7c"
   },
   "outputs": [],
   "source": [
    "gendered_pronoun_df[\"num_chars\"] = gendered_pronoun_df[\"Text\"].apply(lambda x: len(str(x)))\n",
    "print('maximum of num_chars in data_df',gendered_pronoun_df[\"num_chars\"].max())"
   ]
  },
  {
   "cell_type": "markdown",
   "metadata": {
    "_uuid": "c92b550daefdf3b24b70d8699db5dd0c574cff9c"
   },
   "source": [
    "### Number of stopwords in the text"
   ]
  },
  {
   "cell_type": "code",
   "execution_count": null,
   "metadata": {
    "_uuid": "aac35abcf25fe2eedb2c8cbfa41aec7a1b343027"
   },
   "outputs": [],
   "source": [
    "from nltk.corpus import stopwords\n",
    "eng_stopwords = set(stopwords.words(\"english\"))"
   ]
  },
  {
   "cell_type": "code",
   "execution_count": null,
   "metadata": {
    "_uuid": "820f129f67cb992a9a7cf5a6eb517435bc134868"
   },
   "outputs": [],
   "source": [
    "gendered_pronoun_df[\"num_stopwords\"] = gendered_pronoun_df[\"Text\"].apply(lambda x: len([w for w in str(x).lower().split() if w in eng_stopwords]))\n",
    "\n",
    "print('maximum of num_stopwords in data_df',gendered_pronoun_df[\"num_stopwords\"].max())"
   ]
  },
  {
   "cell_type": "markdown",
   "metadata": {
    "_uuid": "e08b8010d753e7f3ddb2899007f774f8b37f9563"
   },
   "source": [
    "### Number of punctuations in the text\n"
   ]
  },
  {
   "cell_type": "code",
   "execution_count": null,
   "metadata": {
    "_uuid": "0bfb80fd81acd6f7cfdd9c4951d063efac55e7fe"
   },
   "outputs": [],
   "source": [
    "import string\n",
    "gendered_pronoun_df[\"num_punctuations\"] =gendered_pronoun_df['Text'].apply(lambda x: len([c for c in str(x) if c in string.punctuation]) )\n",
    "print('maximum of num_punctuations in data_df',gendered_pronoun_df[\"num_punctuations\"].max())"
   ]
  },
  {
   "cell_type": "markdown",
   "metadata": {
    "_uuid": "870b75ce6c170a655ff93f7b92f0d6d2efadcbea"
   },
   "source": [
    "### Number of title case words in the text"
   ]
  },
  {
   "cell_type": "code",
   "execution_count": null,
   "metadata": {
    "_uuid": "ef4efb54840d12d666b0688e3c34652261a3565a"
   },
   "outputs": [],
   "source": [
    "gendered_pronoun_df[\"num_words_upper\"] = gendered_pronoun_df[\"Text\"].apply(lambda x: len([w for w in str(x).split() if w.isupper()]))\n",
    "print('maximum of num_words_upper in data_df',gendered_pronoun_df[\"num_words_upper\"].max())"
   ]
  },
  {
   "cell_type": "code",
   "execution_count": null,
   "metadata": {
    "_uuid": "a745d428fbf0a85faa371c20125f6a45d133dc4d"
   },
   "outputs": [],
   "source": [
    "print(gendered_pronoun_df.columns)\n",
    "gendered_pronoun_df.head(1)"
   ]
  },
  {
   "cell_type": "code",
   "execution_count": null,
   "metadata": {
    "_uuid": "27724fbc41131531a97558394627a6327b8104ae"
   },
   "outputs": [],
   "source": [
    "pronoun=gendered_pronoun_df[\"Pronoun\"]"
   ]
  },
  {
   "cell_type": "code",
   "execution_count": null,
   "metadata": {
    "_uuid": "e4e059d1204d780321dbc23d2180ce178d6295f2"
   },
   "outputs": [],
   "source": [
    "np.unique(pronoun)"
   ]
  },
  {
   "cell_type": "code",
   "execution_count": null,
   "metadata": {
    "_uuid": "74a6654383f6a8665f53a4b86beede0b6320a800"
   },
   "outputs": [],
   "source": [
    "## is suggested by  https://www.kaggle.com/aavella77\n",
    "binary = {\n",
    "    \"He\": 0,\n",
    "    \"he\": 0,\n",
    "    \"She\": 1,\n",
    "    \"she\": 1,\n",
    "    \"His\": 2,\n",
    "    \"his\": 2,\n",
    "    \"Him\": 3,\n",
    "    \"him\": 3,\n",
    "    \"Her\": 4,\n",
    "    \"her\": 4\n",
    "}\n",
    "for index in range(len(gendered_pronoun_df)):\n",
    "    key = gendered_pronoun_df.iloc[index]['Pronoun']\n",
    "    gendered_pronoun_df.at[index, 'Pronoun_binary'] = binary[key]\n",
    "gendered_pronoun_df.head(30)"
   ]
  },
  {
   "cell_type": "markdown",
   "metadata": {
    "_uuid": "7178f16ef76a23595609b2f59273453b10452b59"
   },
   "source": [
    "## 1-5-4 Visualization"
   ]
  },
  {
   "cell_type": "markdown",
   "metadata": {
    "_uuid": "80b242ec9b0b3de002cd1832b7c219e79350b710"
   },
   "source": [
    "### 1-5-4-1 WordCloud"
   ]
  },
  {
   "cell_type": "code",
   "execution_count": null,
   "metadata": {
    "_uuid": "053ee85dd9d499e77a6af3f30aebda14ff32844c"
   },
   "outputs": [],
   "source": [
    "from wordcloud import WordCloud as wc\n",
    "from nltk.corpus import stopwords\n",
    "def generate_wordcloud(text): \n",
    "    wordcloud = wc(relative_scaling = 1.0,stopwords = eng_stopwords).generate(text)\n",
    "    fig,ax = plt.subplots(1,1,figsize=(10,10))\n",
    "    ax.imshow(wordcloud, interpolation='bilinear')\n",
    "    ax.axis(\"off\")\n",
    "    ax.margins(x=0, y=0)\n",
    "    plt.show()"
   ]
  },
  {
   "cell_type": "code",
   "execution_count": null,
   "metadata": {
    "_uuid": "f9f6be8b9c41582903c7e0cb59dadda3b699dc64"
   },
   "outputs": [],
   "source": [
    "from nltk.corpus import stopwords\n",
    "eng_stopwords = set(stopwords.words(\"english\"))"
   ]
  },
  {
   "cell_type": "code",
   "execution_count": null,
   "metadata": {
    "_uuid": "8803c955d3b73da82a80f02d58496a6719d86b29"
   },
   "outputs": [],
   "source": [
    "text =\" \".join(gendered_pronoun_df.Text)\n",
    "generate_wordcloud(text)"
   ]
  },
  {
   "cell_type": "code",
   "execution_count": null,
   "metadata": {
    "_uuid": "ae3511201a4a21c7b86b69db825bbcd4be472ba4"
   },
   "outputs": [],
   "source": [
    "gendered_pronoun_df.hist();"
   ]
  },
  {
   "cell_type": "code",
   "execution_count": null,
   "metadata": {
    "_uuid": "3da398667df0a5cf4a2ed74fdc1e62fe52535ca7"
   },
   "outputs": [],
   "source": [
    "pd.plotting.scatter_matrix(gendered_pronoun_df,figsize=(10,10))\n",
    "plt.figure();"
   ]
  },
  {
   "cell_type": "code",
   "execution_count": null,
   "metadata": {
    "_uuid": "3a57fbbb8831b1291f2fbcad5319002db8e39d4f"
   },
   "outputs": [],
   "source": [
    "sns.jointplot(x='Pronoun-offset',y='A-offset' ,data=gendered_pronoun_df, kind='reg')"
   ]
  },
  {
   "cell_type": "code",
   "execution_count": null,
   "metadata": {
    "_uuid": "1d2ebe259e38e894a7a3a5ce42b65105475dc25c"
   },
   "outputs": [],
   "source": [
    "sns.swarmplot(x='Pronoun-offset',y='B-offset',data=gendered_pronoun_df);"
   ]
  },
  {
   "cell_type": "code",
   "execution_count": null,
   "metadata": {
    "_uuid": "c9c45edf205c9cae42c45ff76a83fe8b4247460d"
   },
   "outputs": [],
   "source": [
    "sns.distplot(gendered_pronoun_df[\"Pronoun-offset\"])"
   ]
  },
  {
   "cell_type": "code",
   "execution_count": null,
   "metadata": {
    "_uuid": "79f6e274d58e2ff8347ceb3bb3dc2bff542389ef"
   },
   "outputs": [],
   "source": [
    "sns.violinplot(data=gendered_pronoun_df,x=\"Pronoun_binary\", y=\"num_words\")"
   ]
  },
  {
   "cell_type": "markdown",
   "metadata": {
    "_uuid": "45c537518846b1d52e7c9f6012210c085d5d6bd3"
   },
   "source": [
    "<a id=\"14\"></a> <br>\n",
    "# Top 3 NLP Libraries Tutorial\n",
    "1. NLTK\n",
    "1. spaCy\n",
    "1. Gensim"
   ]
  },
  {
   "cell_type": "markdown",
   "metadata": {
    "_uuid": "c5048b61a4837c8826551c8871609973ebbe3847"
   },
   "source": [
    "<a id=\"2\"></a> <br>\n",
    "# 2- NLTK\n",
    "The Natural Language Toolkit (NLTK) is one of the leading platforms for working with human language data and Python, the module NLTK is used for natural language processing. NLTK is literally an acronym for Natural Language Toolkit. with it you can tokenizing words and sentences.[https://www.nltk.org/](https://www.nltk.org/)\n",
    "<br>\n",
    "NLTK is a library of Python that can mine (scrap and upload data) and analyse very large amounts of textual data using computational methods.this tutorial is based on **this great course** [**https://pythonspot.com/category/nltk/**](https://pythonspot.com/category/nltk/)\n",
    "<img src='https://arts.unimelb.edu.au/__data/assets/image/0005/2735348/nltk.jpg' width=400 height=400>"
   ]
  },
  {
   "cell_type": "markdown",
   "metadata": {
    "_uuid": "80fce6716dfb83635a26771db46a931028dda3ff"
   },
   "source": [
    "If you are using Windows or Linux or Mac, you can install NLTK using pip:\n",
    ">**$ pip install nltk**\n",
    "\n",
    "You can use NLTK on Python 2.7, 3.4, and 3.6."
   ]
  },
  {
   "cell_type": "markdown",
   "metadata": {
    "_uuid": "61ed17e35622e90f065c8a65c2679158add5f59b"
   },
   "source": [
    "To get started, we first select a few sentences from the data set."
   ]
  },
  {
   "cell_type": "code",
   "execution_count": null,
   "metadata": {
    "_kg_hide-input": true,
    "_uuid": "adadeb7a83d0bc711a779948197c40841b10f1ca"
   },
   "outputs": [],
   "source": [
    "from nltk.tokenize import sent_tokenize, word_tokenize"
   ]
  },
  {
   "cell_type": "code",
   "execution_count": null,
   "metadata": {
    "_uuid": "c44b8faf0903a7a4ca4ddc1b3eaf9aed680de226"
   },
   "outputs": [],
   "source": [
    "gendered_pronoun_df.Text[0]"
   ]
  },
  {
   "cell_type": "code",
   "execution_count": null,
   "metadata": {
    "_uuid": "fc5612f627a6760982b099ef45fdac41aa59c4d5"
   },
   "outputs": [],
   "source": [
    "our_text=gendered_pronoun_df.Text[0]"
   ]
  },
  {
   "cell_type": "code",
   "execution_count": null,
   "metadata": {
    "_uuid": "4d11f0f4aff764014298b53574dd81bd167742dc"
   },
   "outputs": [],
   "source": [
    "print(word_tokenize(our_text))"
   ]
  },
  {
   "cell_type": "markdown",
   "metadata": {
    "_uuid": "e49407d9fe96b86c9851fbd7065ebfb218281687"
   },
   "source": [
    "<a id=\"21\"></a> <br>\n",
    "## 2-1 Tokenizing sentences\n",
    "**What is Tokenizer?**\n",
    "Tokenizing raw text data is an important pre-processing step for many NLP methods. As explained on wikipedia, tokenization is “the process of breaking a stream of text up into words, phrases, symbols, or other meaningful elements called tokens.” In the context of actually working through an NLP analysis, this usually translates to converting a string like \"My favorite color is blue\" to a list or array like [\"My\", \"favorite\", \"color\", \"is\", \"blue\"].[**http://tint.fbk.eu/tokenization.html**](http://tint.fbk.eu/tokenization.html)"
   ]
  },
  {
   "cell_type": "code",
   "execution_count": null,
   "metadata": {
    "_kg_hide-input": true,
    "_uuid": "ec9e6c715a1d49b2813c934fb4405ccec77884a1"
   },
   "outputs": [],
   "source": [
    "from nltk.tokenize import sent_tokenize, word_tokenize\n",
    "print(sent_tokenize(our_text))"
   ]
  },
  {
   "cell_type": "markdown",
   "metadata": {
    "_uuid": "75bb691fdb4982097ee8eb59ae930c1d81074afa"
   },
   "source": [
    "<a id=\"22\"></a> <br>\n",
    "## 2-2 NLTK and Arrays\n",
    "If you wish to you can store the words and sentences in arrays."
   ]
  },
  {
   "cell_type": "code",
   "execution_count": null,
   "metadata": {
    "_kg_hide-input": true,
    "_uuid": "fde02d4189b0a52b7f919ac0fa0643d84ebacaf7"
   },
   "outputs": [],
   "source": [
    "from nltk.tokenize import sent_tokenize, word_tokenize\n",
    " \n",
    "phrases = sent_tokenize(our_text)\n",
    "words = word_tokenize(our_text)\n",
    "print(phrases)"
   ]
  },
  {
   "cell_type": "code",
   "execution_count": null,
   "metadata": {
    "_uuid": "3b0d05b496d67fb08b0c7a7ae49c46db20771cf8"
   },
   "outputs": [],
   "source": [
    "print(words)"
   ]
  },
  {
   "cell_type": "code",
   "execution_count": null,
   "metadata": {
    "_uuid": "35647f3a8ff74ec459e2d4f52697aaa373678d56"
   },
   "outputs": [],
   "source": [
    "type(words)"
   ]
  },
  {
   "cell_type": "markdown",
   "metadata": {
    "_uuid": "f7fad127cb8ed99cc063b98b3391645263737958"
   },
   "source": [
    "<a id=\"23\"></a> <br>\n",
    "## 2-3 NLTK Stop Words\n",
    "Natural language processing (nlp) is a research field that presents many challenges such as natural language understanding.\n",
    "Text may contain stop words like ‘the’, ‘is’, ‘are’. Stop words can be filtered from the text to be processed. There is no universal list of stop words in nlp research, however the nltk module contains a list of stop words.\n",
    "\n",
    "In this article you will learn how to remove stop words with the nltk module.[https://pythonspot.com/nltk-stop-words/](https://pythonspot.com/nltk-stop-words/)"
   ]
  },
  {
   "cell_type": "code",
   "execution_count": null,
   "metadata": {
    "_kg_hide-input": true,
    "_uuid": "3357ec158943478d584c392bb7702fe7e6d4b355"
   },
   "outputs": [],
   "source": [
    "from nltk.tokenize import sent_tokenize, word_tokenize\n",
    "from nltk.corpus import stopwords"
   ]
  },
  {
   "cell_type": "code",
   "execution_count": null,
   "metadata": {
    "_uuid": "cf7d588ecb461f41b1083972b8e5d1209854a4c7"
   },
   "outputs": [],
   "source": [
    " \n",
    "\n",
    "stopWords = set(stopwords.words('english'))\n",
    "words = word_tokenize(our_text)\n",
    "wordsFiltered = []\n",
    " \n",
    "for w in words:\n",
    "    if w not in stopWords:\n",
    "        wordsFiltered.append(w)\n",
    " \n",
    "print(wordsFiltered)"
   ]
  },
  {
   "cell_type": "markdown",
   "metadata": {
    "_uuid": "581a7ba2ce1ae5dae6c36d54f8999af838c7b80c"
   },
   "source": [
    "A module has been imported:\n",
    "\n"
   ]
  },
  {
   "cell_type": "code",
   "execution_count": null,
   "metadata": {
    "_kg_hide-input": true,
    "_uuid": "2cb63648a5f138fe779744f0c52d570f30f84b13"
   },
   "outputs": [],
   "source": [
    "from nltk.corpus import stopwords\n"
   ]
  },
  {
   "cell_type": "markdown",
   "metadata": {
    "_uuid": "e7528080723ea540729e78b6e135475a870a5618"
   },
   "source": [
    "We get a set of English stop words using the line:\n",
    "\n"
   ]
  },
  {
   "cell_type": "code",
   "execution_count": null,
   "metadata": {
    "_kg_hide-input": true,
    "_uuid": "6fbe468728072fb1883e064d0c1e892259fb1c0c"
   },
   "outputs": [],
   "source": [
    "stopWords = set(stopwords.words('english'))\n"
   ]
  },
  {
   "cell_type": "markdown",
   "metadata": {
    "_uuid": "43843cdaccbe961422631c13d982e13bf25607c6"
   },
   "source": [
    "The returned list stopWords contains 153 stop words on my computer.\n",
    "You can view the length or contents of this array with the lines:"
   ]
  },
  {
   "cell_type": "code",
   "execution_count": null,
   "metadata": {
    "_kg_hide-input": true,
    "_uuid": "53582f8f5ae2871e2cbba4542fc38965b61a5012"
   },
   "outputs": [],
   "source": [
    "print(len(stopWords))\n",
    "print(stopWords)"
   ]
  },
  {
   "cell_type": "markdown",
   "metadata": {
    "_uuid": "d25fed9ed1fd0016cea56de8e71b010a0d3176c3"
   },
   "source": [
    "We create a new list called wordsFiltered which contains all words which are not stop words.\n",
    "To create it we iterate over the list of words and only add it if its not in the stopWords list."
   ]
  },
  {
   "cell_type": "code",
   "execution_count": null,
   "metadata": {
    "_kg_hide-input": true,
    "_uuid": "3b28823a9862bb263183c6d62a4e91286bfe8d30"
   },
   "outputs": [],
   "source": [
    "for w in words:\n",
    "    if w not in stopWords:\n",
    "        wordsFiltered.append(w)"
   ]
  },
  {
   "cell_type": "markdown",
   "metadata": {
    "_uuid": "8546a903a5b3916bca4feb96116dd00db1fc51c0"
   },
   "source": [
    "<a id=\"24\"></a> <br>\n",
    "## 2-4 NLTK – Stemming\n",
    "Stemming is the process of producing morphological variants of a root/base word. Stemming programs are commonly referred to as stemming algorithms or stemmers. A stemming algorithm reduces the words “chocolates”, “chocolatey”, “choco” to the root word, “chocolate” and “retrieval”, “retrieved”, “retrieves” reduce to the stem “retrieve”.[https://www.geeksforgeeks.org/python-stemming-words-with-nltk/](https://www.geeksforgeeks.org/python-stemming-words-with-nltk/).\n",
    "<img src='https://pythonspot-9329.kxcdn.com/wp-content/uploads/2016/08/word-stem.png.webp'>\n",
    "[Image-credit](https://pythonspot.com/nltk-stemming/)\n",
    "\n",
    "Start by defining some words:"
   ]
  },
  {
   "cell_type": "code",
   "execution_count": null,
   "metadata": {
    "_kg_hide-input": true,
    "_uuid": "f3a8e1427f235183fc5b9656a15a1cdb9befb55b"
   },
   "outputs": [],
   "source": [
    "our_text=gendered_pronoun_df.Text[0]\n"
   ]
  },
  {
   "cell_type": "code",
   "execution_count": null,
   "metadata": {
    "_kg_hide-input": true,
    "_uuid": "4a6ea3737dbb032d08c896f24cc6555b7b516274"
   },
   "outputs": [],
   "source": [
    "from nltk.stem import PorterStemmer\n",
    "from nltk.tokenize import sent_tokenize, word_tokenize"
   ]
  },
  {
   "cell_type": "markdown",
   "metadata": {
    "_uuid": "4bd4f0bc00227a77cfe734575ebfa7d124d333d4"
   },
   "source": [
    "And stem the words in the list using:"
   ]
  },
  {
   "cell_type": "code",
   "execution_count": null,
   "metadata": {
    "_kg_hide-input": false,
    "_kg_hide-output": true,
    "_uuid": "12b5f99ca390ed21e68862e5eb5968d31e3858ef"
   },
   "outputs": [],
   "source": [
    "from nltk.stem import PorterStemmer\n",
    "from nltk.tokenize import sent_tokenize, word_tokenize\n",
    "\n",
    "\n",
    "ps = PorterStemmer()\n",
    " \n",
    "for word in word_tokenize(our_text):\n",
    "    print(ps.stem(word))"
   ]
  },
  {
   "cell_type": "markdown",
   "metadata": {
    "_uuid": "b0af11da2319b2be2643ad0003ebbc207067dc34"
   },
   "source": [
    "<a id=\"25\"></a> <br>\n",
    "## 2-5 NLTK speech tagging\n",
    "The **module NLTK** can automatically **tag speech**.\n",
    "Given a sentence or paragraph, It can label words such as verbs, nouns and so on.\n",
    "\n",
    "The example below automatically tags words with a corresponding class.[https://www.nltk.org/book/ch05.html](https://www.nltk.org/book/ch05.html)"
   ]
  },
  {
   "cell_type": "code",
   "execution_count": null,
   "metadata": {
    "_kg_hide-input": true,
    "_uuid": "fe586131bec724c1901a441b56753c1d47562483"
   },
   "outputs": [],
   "source": [
    "import nltk\n",
    "from nltk.tokenize import PunktSentenceTokenizer\n",
    " \n",
    "\n",
    "sentences = nltk.sent_tokenize(our_text)   \n",
    "for sent in sentences:\n",
    "    print(nltk.pos_tag(nltk.word_tokenize(sent)))"
   ]
  },
  {
   "cell_type": "markdown",
   "metadata": {
    "_uuid": "22e469c3b880de5c4f00a609192e74d97d22436a"
   },
   "source": [
    "We can filter this data based on the type of word:"
   ]
  },
  {
   "cell_type": "code",
   "execution_count": null,
   "metadata": {
    "_kg_hide-input": true,
    "_uuid": "8edca0d46e25f4d8dba85c454bb70299b7c1e112"
   },
   "outputs": [],
   "source": [
    "import nltk\n",
    "from nltk.corpus import state_union\n",
    "from nltk.tokenize import PunktSentenceTokenizer\n",
    " \n",
    "\n",
    "sentences = nltk.sent_tokenize(our_text)   \n",
    " \n",
    "data = []\n",
    "for sent in sentences:\n",
    "    data = data + nltk.pos_tag(nltk.word_tokenize(sent))\n",
    " \n",
    "for word in data: \n",
    "    if 'NNP' in word[1]: \n",
    "        print(word)"
   ]
  },
  {
   "cell_type": "markdown",
   "metadata": {
    "_uuid": "488b9eadaebb4fb6ae4585e991b9d1d6af176490"
   },
   "source": [
    "<a id=\"26\"></a> <br>\n",
    "## 2-6 Natural Language Processing – prediction\n",
    "We can use natural language processing to make predictions. Example: Given a product review, a computer can predict if its positive or negative based on the text. In this article you will learn how to make a prediction program based on natural language processing."
   ]
  },
  {
   "cell_type": "markdown",
   "metadata": {
    "_uuid": "a6dd913ea82ac7dcc478ab861e92e483a57beca0"
   },
   "source": [
    "<a id=\"261\"></a> <br>\n",
    "## 2-6-1 NLP Prediction Example Based on pythonspot\n",
    "Given a name, the classifier will predict if it’s a male or female.\n",
    "\n",
    "To create our analysis program, we have several steps:\n",
    "\n",
    "1. Data preparation\n",
    "1. Feature extraction\n",
    "1. Training\n",
    "1. Prediction\n",
    "1. Data preparation\n",
    "The first step is to prepare data. We use the names set included with nltk.[https://pythonspot.com/natural-language-processing-prediction/](https://pythonspot.com/natural-language-processing-prediction/)"
   ]
  },
  {
   "cell_type": "code",
   "execution_count": null,
   "metadata": {
    "_kg_hide-input": true,
    "_uuid": "73da028c3418b256653ec37d516b667af5541225"
   },
   "outputs": [],
   "source": [
    "#https://pythonspot.com/natural-language-processing-prediction/\n",
    "from nltk.corpus import names\n",
    " \n",
    "# Load data and training \n",
    "names = ([(name, 'male') for name in names.words('male.txt')] + [(name, 'female') for name in names.words('female.txt')])"
   ]
  },
  {
   "cell_type": "markdown",
   "metadata": {
    "_uuid": "3421ce619481bc3f4b8817fd14c3c33374975c9b"
   },
   "source": [
    "This dataset is simply a collection of tuples. To give you an idea of what the dataset looks like:"
   ]
  },
  {
   "cell_type": "code",
   "execution_count": null,
   "metadata": {
    "_kg_hide-input": true,
    "_uuid": "fd30af0cc73300d0d83c7d525af3281bfc718e54"
   },
   "outputs": [],
   "source": [
    "[(u'Aaron', 'male'), (u'Abbey', 'male'), (u'Abbie', 'male')]\n",
    "[(u'Zorana', 'female'), (u'Zorina', 'female'), (u'Zorine', 'female')]"
   ]
  },
  {
   "cell_type": "markdown",
   "metadata": {
    "_uuid": "022d450b9d514737392698136ee046fbbd73597c"
   },
   "source": [
    "You can define your own set of tuples if you wish, its simply a list containing many tuples.\n",
    "\n",
    "Feature extraction\n",
    "Based on the dataset, we prepare our feature. The feature we will use is the last letter of a name:\n",
    "We define a featureset using:"
   ]
  },
  {
   "cell_type": "markdown",
   "metadata": {
    "_uuid": "3745234017dc235c7e903943d2d67930402eac1a"
   },
   "source": [
    "featuresets = [(gender_features(n), g) for (n,g) in names]\n",
    "and the features (last letters) are extracted using:"
   ]
  },
  {
   "cell_type": "code",
   "execution_count": null,
   "metadata": {
    "_kg_hide-input": true,
    "_uuid": "f3baaa6a29bbf22a153094df0bbf38c8a0ff0430"
   },
   "outputs": [],
   "source": [
    "def gender_features(word): \n",
    "    return {'last_letter': word[-1]}"
   ]
  },
  {
   "cell_type": "markdown",
   "metadata": {
    "_uuid": "9ef5cb06006e20577878cb93d2c8c488fe341c70"
   },
   "source": [
    "Training and prediction\n",
    "We train and predict using:"
   ]
  },
  {
   "cell_type": "code",
   "execution_count": null,
   "metadata": {
    "_kg_hide-input": true,
    "_uuid": "dba616c9612c65a875319837061d8c3861e9e6dd"
   },
   "outputs": [],
   "source": [
    "#Based on https://pythonspot.com/category/nltk/\n",
    "import nltk.classify.util\n",
    "from nltk.classify import NaiveBayesClassifier\n",
    "from nltk.corpus import names\n",
    " \n",
    "def gender_features(word): \n",
    "    return {'last_letter': word[-1]} \n",
    " \n",
    "# Load data and training \n",
    "names = ([(name, 'male') for name in names.words('male.txt')] + \n",
    "\t [(name, 'female') for name in names.words('female.txt')])\n",
    " \n",
    "featuresets = [(gender_features(n), g) for (n,g) in names] \n",
    "train_set = featuresets\n",
    "classifier = nltk.NaiveBayesClassifier.train(train_set) \n",
    " \n",
    "# Predict\n",
    "print(classifier.classify(gender_features('Frank')))"
   ]
  },
  {
   "cell_type": "markdown",
   "metadata": {
    "_uuid": "d2d2be49b9597ad4fee4f0bc48dfd1df7934a447"
   },
   "source": [
    "If you want to give the name during runtime, change the last line to:"
   ]
  },
  {
   "cell_type": "code",
   "execution_count": null,
   "metadata": {
    "_kg_hide-input": true,
    "_uuid": "a55ec4316a7dd340d09b4c93f579357b2022db5f"
   },
   "outputs": [],
   "source": [
    "# Predict, you can change name\n",
    "name = 'Sarah'\n",
    "print(classifier.classify(gender_features(name)))"
   ]
  },
  {
   "cell_type": "markdown",
   "metadata": {
    "_uuid": "9f7e32d6aeeed974e9c9d23189241aa17ca69de3"
   },
   "source": [
    "<a id=\"27\"></a> <br>\n",
    "## 2-7 Python Sentiment Analysis\n",
    "In Natural Language Processing there is a concept known as **Sentiment Analysis**. in this section we use this great [**course**](https://pythonspot.com/category/nltk/) to explain Sentiment Analysis\n",
    "\n",
    "<img src='https://s3.amazonaws.com/com.twilio.prod.twilio-docs/images/SentimentAnalysis.width-800.png'>\n",
    "[image-credit](https://www.twilio.com/docs/glossary/what-is-sentiment-analysis)\n",
    "\n",
    "1. Given a movie review or a tweet, it can be automatically classified in categories.\n",
    "1. These categories can be user defined (positive, negative) or whichever classes you want.\n",
    "1. Classification is done using several steps: training and prediction.\n",
    "1. The training phase needs to have training data, this is example data in which we define examples. \n",
    "1. The classifier will use the training data to make predictions."
   ]
  },
  {
   "cell_type": "markdown",
   "metadata": {
    "_uuid": "180a352f2870cf979345790226b4d4bfe813c886"
   },
   "source": [
    "We start by defining 3 classes: positive, negative and neutral.\n",
    "Each of these is defined by a vocabulary:"
   ]
  },
  {
   "cell_type": "code",
   "execution_count": null,
   "metadata": {
    "_kg_hide-input": true,
    "_uuid": "199b8ebaa48d358cf2a2520d4ee1b8edcf22f81c"
   },
   "outputs": [],
   "source": [
    "positive_vocab = [ 'awesome', 'outstanding', 'fantastic', 'terrific', 'good', 'nice', 'great', ':)' ]\n",
    "negative_vocab = [ 'bad', 'terrible','useless', 'hate', ':(' ]\n",
    "neutral_vocab = [ 'movie','the','sound','was','is','actors','did','know','words','not' ]"
   ]
  },
  {
   "cell_type": "markdown",
   "metadata": {
    "_uuid": "f50e153d90eb5519f6c76e487ac7c0212c9dd0ee"
   },
   "source": [
    "Every word is converted into a feature using a simplified bag of words model:"
   ]
  },
  {
   "cell_type": "code",
   "execution_count": null,
   "metadata": {
    "_kg_hide-input": true,
    "_uuid": "5bba07df26463ff90b6d71a551f8aae0960de7e0"
   },
   "outputs": [],
   "source": [
    "def word_feats(words):\n",
    "    return dict([(word, True) for word in words])\n",
    " \n",
    "positive_features = [(word_feats(pos), 'pos') for pos in positive_vocab]\n",
    "negative_features = [(word_feats(neg), 'neg') for neg in negative_vocab]\n",
    "neutral_features = [(word_feats(neu), 'neu') for neu in neutral_vocab]"
   ]
  },
  {
   "cell_type": "markdown",
   "metadata": {
    "_uuid": "2e02426d80adacc804fc5497c9e3d7607e8cc030"
   },
   "source": [
    "Our training set is then the sum of these three feature sets:"
   ]
  },
  {
   "cell_type": "code",
   "execution_count": null,
   "metadata": {
    "_kg_hide-input": true,
    "_uuid": "c9f2545fa20caca3034dbb62521e064ff4d322b6"
   },
   "outputs": [],
   "source": [
    "train_set = negative_features + positive_features + neutral_features"
   ]
  },
  {
   "cell_type": "markdown",
   "metadata": {
    "_uuid": "cf69fcf2e05e3a55c05c1f62adaa74c8cebfcf45"
   },
   "source": [
    "We train the classifier:"
   ]
  },
  {
   "cell_type": "markdown",
   "metadata": {
    "_uuid": "0577b4e7dcb13b48a0918c7b632716482e9c042e"
   },
   "source": [
    "classifier = NaiveBayesClassifier.train(train_set)"
   ]
  },
  {
   "cell_type": "markdown",
   "metadata": {
    "_uuid": "97abd270ce5492d1d178858fc1b7f2ef3eb71c69"
   },
   "source": [
    "This example classifies sentences according to the training set."
   ]
  },
  {
   "cell_type": "code",
   "execution_count": null,
   "metadata": {
    "_kg_hide-input": true,
    "_uuid": "6214a67beb47748105aa7f0c51201925f39e9e7b"
   },
   "outputs": [],
   "source": [
    "#Based on https://pythonspot.com/category/nltk/\n",
    "import nltk.classify.util\n",
    "from nltk.classify import NaiveBayesClassifier\n",
    "from nltk.corpus import names\n",
    " \n",
    "def word_feats(words):\n",
    "    return dict([(word, True) for word in words])\n",
    " \n",
    "positive_vocab = [ 'awesome', 'outstanding', 'fantastic', 'terrific', 'good', 'nice', 'great', ':)' ]\n",
    "negative_vocab = [ 'bad', 'terrible','useless', 'hate', ':(' ]\n",
    "neutral_vocab = [ 'movie','the','sound','was','is','actors','did','know','words','not' ]\n",
    " \n",
    "positive_features = [(word_feats(pos), 'pos') for pos in positive_vocab]\n",
    "negative_features = [(word_feats(neg), 'neg') for neg in negative_vocab]\n",
    "neutral_features = [(word_feats(neu), 'neu') for neu in neutral_vocab]\n",
    " \n",
    "train_set = negative_features + positive_features + neutral_features\n",
    " \n",
    "classifier = NaiveBayesClassifier.train(train_set) \n",
    " \n",
    "# Predict\n",
    "neg = 0\n",
    "pos = 0\n",
    "##sentence = \"Awesome movie, I liked it\"\n",
    "our_text = our_text.lower()\n",
    "words = our_text.split(' ')\n",
    "for word in words:\n",
    "    classResult = classifier.classify( word_feats(word))\n",
    "    if classResult == 'neg':\n",
    "        neg = neg + 1\n",
    "    if classResult == 'pos':\n",
    "        pos = pos + 1\n",
    " \n",
    "print('Positive: ' + str(float(pos)/len(words)))\n",
    "print('Negative: ' + str(float(neg)/len(words)))"
   ]
  },
  {
   "cell_type": "markdown",
   "metadata": {
    "_uuid": "a12c93a7d6661d03dc2bb7bb00b82423bda2af50"
   },
   "source": [
    "<a id=\"3\"></a> <br>\n",
    "# 3- spaCy\n",
    "<img src='https://upload.wikimedia.org/wikipedia/commons/thumb/8/88/SpaCy_logo.svg/1920px-SpaCy_logo.svg.png' width=400 height=400>\n",
    "spaCy is an Industrial-Strength Natural Language Processing in python. [**spacy**](https://spacy.io/)"
   ]
  },
  {
   "cell_type": "code",
   "execution_count": null,
   "metadata": {
    "_uuid": "c45780f33f00c6e8900cdf3db0f67f6d3d0bc205"
   },
   "outputs": [],
   "source": [
    "import spacy"
   ]
  },
  {
   "cell_type": "code",
   "execution_count": null,
   "metadata": {
    "_kg_hide-input": false,
    "_kg_hide-output": false,
    "_uuid": "be92ac2f20190d01d2dcccebf6aa933b853d5a51"
   },
   "outputs": [],
   "source": [
    "nlp = spacy.load('en')\n",
    "doc = nlp(our_text)\n",
    "i=0\n",
    "for token in doc:\n",
    "    i=i+1;\n",
    "    if i<20:\n",
    "        print('\"' + token.text + '\"')"
   ]
  },
  {
   "cell_type": "markdown",
   "metadata": {
    "_uuid": "51c9b694c44a8ad3a681fcfe5a9c92542d7ef412"
   },
   "source": [
    "## 3-1 Sentence detection\n"
   ]
  },
  {
   "cell_type": "code",
   "execution_count": null,
   "metadata": {
    "_uuid": "52a01d4f3aac44b15fc0bbdc57b96dd62f7b7e88"
   },
   "outputs": [],
   "source": [
    "nlp = spacy.load('en')\n",
    "doc=nlp(our_text)\n",
    "i=0\n",
    "for sent in doc.sents:\n",
    "    i=i+1\n",
    "    print(i,' - ',sent)"
   ]
  },
  {
   "cell_type": "markdown",
   "metadata": {
    "_uuid": "c575e6d2312e8cb2e1eafe87a049d5147a6f28b7"
   },
   "source": [
    "## 3-2 Part Of Speech Tagging"
   ]
  },
  {
   "cell_type": "code",
   "execution_count": null,
   "metadata": {
    "_uuid": "89a8b576e16cdc552a0a5998e4289618a88ebe0e"
   },
   "outputs": [],
   "source": [
    "doc = nlp( our_text)\n",
    "print([(token.text, token.tag_) for token in doc])"
   ]
  },
  {
   "cell_type": "markdown",
   "metadata": {
    "_uuid": "23fdb565e464824ba510edb56103c75757929a3f"
   },
   "source": [
    "## 3-3 Named Entity Recognition\n"
   ]
  },
  {
   "cell_type": "code",
   "execution_count": null,
   "metadata": {
    "_uuid": "eac78294d3e8af942591f6a0158639362c61b45a"
   },
   "outputs": [],
   "source": [
    "doc = nlp(our_text)\n",
    "for ent in doc.ents:\n",
    "    print(ent.text, ent.label_)"
   ]
  },
  {
   "cell_type": "markdown",
   "metadata": {
    "_uuid": "79ca7a0e02cda6c8f3ae1a828f2936785930adb7"
   },
   "source": [
    "## 3-4 displaCy "
   ]
  },
  {
   "cell_type": "code",
   "execution_count": null,
   "metadata": {
    "_uuid": "5875c14095151e40d3258757ef991f84934e3cf3"
   },
   "outputs": [],
   "source": [
    "from spacy import displacy\n",
    " \n",
    "doc = nlp(our_text )\n",
    "displacy.render(doc, style='ent', jupyter=True)"
   ]
  },
  {
   "cell_type": "markdown",
   "metadata": {
    "_uuid": "c1b698c82992c4b56b97ce9f74305a7b97ff20c9"
   },
   "source": [
    "visualizing the dependency tree!"
   ]
  },
  {
   "cell_type": "code",
   "execution_count": null,
   "metadata": {
    "_uuid": "8e675e757218f67bccb6f7345f8ce967df2cb81a"
   },
   "outputs": [],
   "source": [
    "from spacy import displacy\n",
    " \n",
    "doc = nlp(our_text)\n",
    "displacy.render(doc, style='dep', jupyter=True, options={'distance': 90})"
   ]
  },
  {
   "cell_type": "markdown",
   "metadata": {
    "_uuid": "eac964a2807ec040a8ede88108cb69c747db33cb"
   },
   "source": [
    "<a id=\"4\"></a> <br>\n",
    "# 4- Gensim\n",
    "Gensim is a Python library for topic modelling, document indexing and similarity retrieval with large corpora. Target audience is the natural language processing (NLP) and information retrieval (IR) community.[https://github.com/chirayukong/gensim](https://github.com/chirayukong/gensim)\n",
    "1. Gensim is a FREE Python library\n",
    "1. Scalable statistical semantics\n",
    "1. Analyze plain-text documents for semantic structure\n",
    "1. Retrieve semantically similar documents. [https://radimrehurek.com/gensim/](https://radimrehurek.com/gensim/)"
   ]
  },
  {
   "cell_type": "code",
   "execution_count": null,
   "metadata": {
    "_uuid": "9c9468097f1f39300fcbbba350c9e919e9a35d6a"
   },
   "outputs": [],
   "source": [
    "import gensim\n",
    "from gensim import corpora\n",
    "from pprint import pprint\n",
    "# How to create a dictionary from a list of sentences?\n",
    "documents = [\" Zoe Telford  played the police officer girlfriend of Simon, Maggie.\",\n",
    "             \"Dumped by Simon in the final episode of series 1, after he slept with Jenny, and is not seen again.\",\n",
    "             \"Phoebe Thomas played Cheryl Cassidy, Paulines friend and also a year 11 pupil in Simons class.\", \n",
    "             \"Dumped her boyfriend following Simons advice after he wouldnt \",\n",
    "             \"have sex with her but later realised this was due to him catching crabs off her friend Pauline.\"]\n",
    "\n",
    "documents_2 = [\"One source says the report will likely conclude that\", \n",
    "                \"the operation was carried out without clearance and\", \n",
    "                \"transparency and that those involved will be held\", \n",
    "                \"responsible. One of the sources acknowledged that the\", \n",
    "                \"report is still being prepared and cautioned that\", \n",
    "                \"things could change.\"]"
   ]
  },
  {
   "cell_type": "markdown",
   "metadata": {
    "_uuid": "1a4fbd5743864eeaa545f96580451d4c2d9bb947"
   },
   "source": [
    "### Tokenize(split) the sentences into words"
   ]
  },
  {
   "cell_type": "code",
   "execution_count": null,
   "metadata": {
    "_uuid": "322db8916db513997c4f022dd3635418ab1c9c39"
   },
   "outputs": [],
   "source": [
    "\n",
    "texts = [[text for text in doc.split()] for doc in documents]\n",
    "\n",
    "# Create dictionary\n",
    "dictionary = corpora.Dictionary(texts)\n",
    "\n",
    "# Get information about the dictionary\n",
    "print(dictionary)"
   ]
  },
  {
   "cell_type": "markdown",
   "metadata": {
    "_uuid": "016377ecc572d865ecb630e82b4cdd61cc372374"
   },
   "source": [
    "### Show the word to id map"
   ]
  },
  {
   "cell_type": "code",
   "execution_count": null,
   "metadata": {
    "_uuid": "06e91430f55f3e8a5ba2814c173c3c2d86d13e93"
   },
   "outputs": [],
   "source": [
    "# \n",
    "print(dictionary.token2id)"
   ]
  },
  {
   "cell_type": "markdown",
   "metadata": {
    "_uuid": "bd72e9218aa9341231361fc68053913ac6e28c35"
   },
   "source": [
    "<a id=\"5\"></a> <br>\n",
    "## 5- Comparison of Python NLP libraries by Activewizards"
   ]
  },
  {
   "cell_type": "markdown",
   "metadata": {
    "_uuid": "7b5ad8afda0c69fc349625fdbd9116f18af2a536"
   },
   "source": [
    "<img src='https://activewizards.com/content/blog/Comparison_of_Python_NLP_libraries/nlp-librares-python-prs-and-cons01.png'>"
   ]
  },
  {
   "cell_type": "markdown",
   "metadata": {
    "_uuid": "a8424e6f84874112757040d36b93542a2e5ba8cb"
   },
   "source": [
    ">###### you may  be interested have a look at it: [**10-steps-to-become-a-data-scientist**](https://github.com/mjbahmani/10-steps-to-become-a-data-scientist)\n",
    "\n",
    "\n",
    "---------------------------------------------------------------------\n",
    "You can Fork and Run this kernel on Github:\n",
    "> ###### [ GitHub](https://github.com/mjbahmani/10-steps-to-become-a-data-scientist)\n",
    "\n",
    "-------------------------------------------------------------------------------------------------------------\n",
    "\n",
    " **I hope you find this kernel helpful and some <font color=\"red\"><b>UPVOTES</b></font> would be very much appreciated**\n",
    " \n",
    " -----------"
   ]
  },
  {
   "cell_type": "markdown",
   "metadata": {
    "_uuid": "1923ba01df86012077df2a2750b92ebb2adb8236"
   },
   "source": [
    "<a id=\"6\"></a> <br>\n",
    "# 6- References & Credits\n",
    "1. [https://www.coursera.org/specializations/data-science-python](https://www.coursera.org/specializations/data-science-python)\n",
    "1. [https://github.com/chirayukong/gensim](https://github.com/chirayukong/gensim)\n",
    "1. [https://pythonspot.com/category/nltk/](https://pythonspot.com/category/nltk/)\n",
    "1. [sunscrapers](https://sunscrapers.com/blog/6-best-python-natural-language-processing-nlp-libraries/)\n",
    "1. [spacy](https://spacy.io/)\n",
    "1. [gensim](https://pypi.org/project/gensim/)\n",
    "1. [nlpforhackers](https://nlpforhackers.io/complete-guide-to-spacy/)\n",
    "1. [a-sentiment-analysis-approach-to-predicting-stock-returns](https://medium.com/@tomyuz/a-sentiment-analysis-approach-to-predicting-stock-returns-d5ca8b75a42)\n",
    "1. [machinelearningplus](https://www.machinelearningplus.com/nlp/gensim-tutorial/)\n",
    "1. [https://towardsdatascience.com/topic-modelling-in-python-with-nltk-and-gensim-4ef03213cd21](https://towardsdatascience.com/topic-modelling-in-python-with-nltk-and-gensim-4ef03213cd21)\n",
    "###### [Go to top](#top)"
   ]
  },
  {
   "cell_type": "markdown",
   "metadata": {
    "_uuid": "c3ee017f0b0c6632aa5d49b0db8b6decef7dc179"
   },
   "source": [
    "Go to first step: [**Course Home Page**](https://www.kaggle.com/mjbahmani/10-steps-to-become-a-data-scientist)\n",
    "\n",
    "Go to next step : [**Mathematics and Linear Algebra**](https://www.kaggle.com/mjbahmani/linear-algebra-for-data-scientists)"
   ]
  }
 ],
 "metadata": {
  "kernelspec": {
   "display_name": "Python 3",
   "language": "python",
   "name": "python3"
  },
  "language_info": {
   "codemirror_mode": {
    "name": "ipython",
    "version": 3
   },
   "file_extension": ".py",
   "mimetype": "text/x-python",
   "name": "python",
   "nbconvert_exporter": "python",
   "pygments_lexer": "ipython3",
   "version": "3.7.0"
  }
 },
 "nbformat": 4,
 "nbformat_minor": 1
}
